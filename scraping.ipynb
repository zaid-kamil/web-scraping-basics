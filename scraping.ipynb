{
 "metadata": {
  "language_info": {
   "codemirror_mode": {
    "name": "ipython",
    "version": 3
   },
   "file_extension": ".py",
   "mimetype": "text/x-python",
   "name": "python",
   "nbconvert_exporter": "python",
   "pygments_lexer": "ipython3",
   "version": "3.8.3-final"
  },
  "orig_nbformat": 2,
  "kernelspec": {
   "name": "python3",
   "display_name": "Python 3"
  }
 },
 "nbformat": 4,
 "nbformat_minor": 2,
 "cells": [
  {
   "cell_type": "code",
   "execution_count": 2,
   "metadata": {},
   "outputs": [],
   "source": [
    "from bs4 import BeautifulSoup\n",
    "import requests"
   ]
  },
  {
   "cell_type": "code",
   "execution_count": 3,
   "metadata": {},
   "outputs": [],
   "source": [
    "url = \"https://www.imdb.com/news/tv/?ref_=nv_nw_tv\""
   ]
  },
  {
   "cell_type": "code",
   "execution_count": 8,
   "metadata": {},
   "outputs": [
    {
     "output_type": "execute_result",
     "data": {
      "text/plain": [
       "<Response [200]>"
      ]
     },
     "metadata": {},
     "execution_count": 8
    }
   ],
   "source": [
    "page = requests.get(url)\n",
    "page"
   ]
  },
  {
   "cell_type": "code",
   "execution_count": 9,
   "metadata": {},
   "outputs": [],
   "source": [
    "soup = BeautifulSoup(page.text, 'html5lib')"
   ]
  },
  {
   "cell_type": "code",
   "execution_count": 7,
   "metadata": {},
   "outputs": [
    {
     "output_type": "execute_result",
     "data": {
      "text/plain": [
       "<title>TV News - IMDb</title>"
      ]
     },
     "metadata": {},
     "execution_count": 7
    }
   ],
   "source": [
    "soup.title"
   ]
  },
  {
   "cell_type": "code",
   "execution_count": 10,
   "metadata": {},
   "outputs": [
    {
     "output_type": "execute_result",
     "data": {
      "text/plain": [
       "{}"
      ]
     },
     "metadata": {},
     "execution_count": 10
    }
   ],
   "source": [
    "soup.title.attrs # get list of attributes as dict"
   ]
  },
  {
   "cell_type": "code",
   "execution_count": 11,
   "metadata": {},
   "outputs": [
    {
     "output_type": "execute_result",
     "data": {
      "text/plain": [
       "'TV News - IMDb'"
      ]
     },
     "metadata": {},
     "execution_count": 11
    }
   ],
   "source": [
    "soup.title.text # get string data from tag"
   ]
  },
  {
   "cell_type": "code",
   "execution_count": 12,
   "metadata": {},
   "outputs": [
    {
     "output_type": "execute_result",
     "data": {
      "text/plain": [
       "<h1 class=\"news-page__title\">TV News</h1>"
      ]
     },
     "metadata": {},
     "execution_count": 12
    }
   ],
   "source": [
    "soup.h1"
   ]
  },
  {
   "cell_type": "code",
   "execution_count": 13,
   "metadata": {},
   "outputs": [
    {
     "output_type": "execute_result",
     "data": {
      "text/plain": [
       "{'class': ['news-page__title']}"
      ]
     },
     "metadata": {},
     "execution_count": 13
    }
   ],
   "source": [
    "soup.h1.attrs"
   ]
  },
  {
   "cell_type": "code",
   "execution_count": 14,
   "metadata": {},
   "outputs": [
    {
     "output_type": "execute_result",
     "data": {
      "text/plain": [
       "'TV News'"
      ]
     },
     "metadata": {},
     "execution_count": 14
    }
   ],
   "source": [
    "soup.h1.text"
   ]
  },
  {
   "cell_type": "code",
   "execution_count": 28,
   "metadata": {},
   "outputs": [
    {
     "output_type": "stream",
     "name": "stdout",
     "text": [
      "\n                    \nChuck Lorre Comedy ‘United States of Al’ Gets Series Order at CBS                    \n            \n\n                    \n‘Roma’ Star Yalitza Aparicio to Host 2020 Latin Grammys                    \n            \n\n                    \n‘The Umbrella Academy’ Renewed for Season 3 at Netflix                    \n            \n\n                    \nKathryn Hahn Joins Will Ferrell, Paul Rudd in Apple Series ‘The Shrink Next Door’                    \n            \n\n                    \nU.K. Equality Regulator Clears BBC of Gender Pay Discrimination, But Recommends Rebuilding Trust With Female Staff                    \n            \n\n                    \nITV Revenues Take a Hit Across The Board in Q3, Studios Business Feeling Pain of Covid-19                    \n            \n\n                    \nMaren Morris Wins Three CMA Awards; Eric Church Named Entertainer of the Year                    \n            \n\n                    \nHBO Asia Falls For Taiwan Romance Series ‘Adventure of the Ring’                    \n            \n\n                    \nChicago P.D. Premiere Recap: The Unit Struggles to Adapt to Changing Times                    \n            \n\n                    \nHollywood Stars Honor Veterans in ‘Variety’s Salute to Service Presented by History’                    \n            \n\n                    \nChicago Fire Premiere Recap: Will an Accident End in Tragedy for [Spoiler]?                    \n            \n\n                    \nCMA Awards: Unmasked, Indoor Ceremony Raises Questions About Covid-19 Precautions, Producers Cite 'Extremely Diligent' Measures                    \n            \n\n                    \nChicago Med Premiere Recap: Who Had Covid? Who Broke Up? — Plus, Grade It                    \n            \n\n                    \n‘The Masked Singer’ Reveals the Identity of the Snow Owls: Here’s the Duo Under the Masks                    \n            \n\n                    \nAmazing Race Recap: Horsin' Around                    \n            \n\n                    \nThe Masked Singer Recap: Every Rose Has Its Corn                    \n            \n\n                    \nLady A, Rascal Flatts, Jenee Fleenor Are Latest to Pull Out of CMA Awards Due to Covid-19 (Updated)                    \n            \n\n                    \nArnold Schwarzenegger Spy Drama From Scorpion EP Lands at Netflix                    \n            \n\n                    \nHow To Watch the 2020 Gotham Awards Nominations                    \n            \n\n                    \nArnold Schwarzenegger Spy Series Lands at Netflix for Development                    \n            \n"
     ]
    }
   ],
   "source": [
    "titles = soup.find_all('h2',{'class':'news-article__title'})\n",
    "for h2 in titles:\n",
    "    print(h2.text)"
   ]
  },
  {
   "cell_type": "code",
   "execution_count": 33,
   "metadata": {},
   "outputs": [
    {
     "output_type": "stream",
     "name": "stdout",
     "text": [
      "https://m.media-amazon.com/images/M/MV5BMjA5MTA1ODYxNV5BMl5BanBnXkFtZTcwNzU4NTQ4NA@@._V1_SY150_CR11,0,100,150_AL_.jpg\nhttps://m.media-amazon.com/images/M/MV5BMjA2NDY2MTg0N15BMl5BanBnXkFtZTgwNzA5ODkyNjM@._V1_SX100_CR0,0,100,150_AL_.jpg\nhttps://m.media-amazon.com/images/M/MV5BY2VjMGQ5N2EtODc2Yy00N2Q2LWIzZWQtMDg5ZjJmZWJlZDJjXkEyXkFqcGdeQXVyMTE0MzQwMjgz._V1_SY150_CR100,0,100,150_AL_.jpg\nhttps://m.media-amazon.com/images/M/MV5BMDg4MmE4OTktZDQyMC00N2YzLWI3OTktNDc2ZTEwNTVhODU3XkEyXkFqcGdeQXVyMTE0MzQwMjgz._V1_SY150_CR63,0,100,150_AL_.jpg\nhttps://m.media-amazon.com/images/M/MV5BNzUxMzdiMTUtZjZjYi00NGE0LTllNjQtNjk4ZGNjNmIyNjMyXkEyXkFqcGdeQXVyMTE0MzQwMjgz._V1_SY150_CR83,0,100,150_AL_.jpg\nhttps://m.media-amazon.com/images/M/MV5BOGM3ZWI5OGUtZDYwYS00NjdmLWI2OWMtMTQ1NzRmMWMyZGEzXkEyXkFqcGdeQXVyMTE0MzQwMjgz._V1_SY150_CR83,0,100,150_AL_.jpg\nhttps://m.media-amazon.com/images/M/MV5BNTVmZmM0OGEtNDQ3My00NTYyLWEwZmItNjNmMGJlYThkMjliXkEyXkFqcGdeQXVyMTE0MzQwMjgz._V1_SY150_CR93,0,100,150_AL_.jpg\nhttps://m.media-amazon.com/images/M/MV5BZmQ2Y2I4ZDctZTc3OS00ZmU2LWI0ZDQtYjdiMDA1NGE0M2ZhXkEyXkFqcGdeQXVyMTE0MzQwMjgz._V1_SY150_CR83,0,100,150_AL_.jpg\nhttps://m.media-amazon.com/images/M/MV5BMDA2YWUyNTktNjc2Yy00NGY2LWIxMTQtZDI2ODFiZDRlZjc4XkEyXkFqcGdeQXVyMTE0MzQwMjgz._V1_SY135_CR50,0,100,135_AL_.jpg\nhttps://m.media-amazon.com/images/M/MV5BODViM2RlY2ItNTNmYi00NWQ2LTljOWYtZTIyZTM2Y2M5YTEwXkEyXkFqcGdeQXVyMTE0MzQwMjgz._V1_SY150_CR83,0,100,150_AL_.jpg\nhttps://m.media-amazon.com/images/M/MV5BOGVmMzZiZGItYmJkYi00YzI4LTkyYTYtYzdiYWY4YzBlOWNkXkEyXkFqcGdeQXVyMTE0MzQwMjgz._V1_SY135_CR50,0,100,135_AL_.jpg\nhttps://m.media-amazon.com/images/M/MV5BYjJhMGE2ZDQtNDk3OC00ZWRkLThiNGQtMTJhMjdkOGJkYzhjXkEyXkFqcGdeQXVyMTE0MzQwMjgz._V1_SY128_CR50,0,100,128_AL_.jpg\nhttps://m.media-amazon.com/images/M/MV5BMjU3ZTg4YmEtYTNkMC00Njg3LThjMGEtMTU0ZWU1NDkzZDc1XkEyXkFqcGdeQXVyMTE0MzQwMjgz._V1_SY135_CR50,0,100,135_AL_.jpg\nhttps://m.media-amazon.com/images/M/MV5BYzYxNjNhYjUtNjM3OS00YWY2LWE3MGItNWU3NjUzYzFlYmYwXkEyXkFqcGdeQXVyMTE0MzQwMjgz._V1_SY150_CR107,0,100,150_AL_.jpg\nhttps://m.media-amazon.com/images/M/MV5BNDU4ODk1NGQtNWI1Yy00NmYxLWFkZGItZDFjYmY1OGM1MTA3XkEyXkFqcGdeQXVyMTE0MzQwMjgz._V1_SY135_CR50,0,100,135_AL_.jpg\nhttps://m.media-amazon.com/images/M/MV5BNjA5NGI1ZTktNDFkYi00MDYzLTg0NjktOTM4ZjM3NTFmNzg4XkEyXkFqcGdeQXVyMTE0MzQwMjgz._V1_SY143_CR50,0,100,143_AL_.jpg\nhttps://m.media-amazon.com/images/M/MV5BYmM5NzE0MWYtNDY5MS00YjA0LWFkMDYtOWNlYmRkZWE5ZmE5XkEyXkFqcGdeQXVyMTE0MzQwMjgz._V1_SY150_CR75,0,100,150_AL_.jpg\nhttps://m.media-amazon.com/images/M/MV5BZjczMjdlZDktNDZkYi00MDZmLWJkNWYtZDc1ODlmM2Q5NWFhXkEyXkFqcGdeQXVyMTE0MzQwMjgz._V1_SY136_CR50,0,100,136_AL_.jpg\nhttps://m.media-amazon.com/images/M/MV5BMzdmOWViMTctYjNkNS00NDljLTg4ZDctYmY2MTE3NzVjNGQ4XkEyXkFqcGdeQXVyMTE0MzQwMjgz._V1_SY150_CR83,0,100,150_AL_.jpg\nhttps://m.media-amazon.com/images/M/MV5BYzBmNTczZDQtMWFkNC00NDhkLWFlNjItM2ExNjc4ZWRhOTg4XkEyXkFqcGdeQXVyMTE0MzQwMjgz._V1_SY150_CR83,0,100,150_AL_.jpg\n"
     ]
    }
   ],
   "source": [
    "images = soup.find_all('img')\n",
    "for img in images:\n",
    "    print(img.attrs.get('src'))"
   ]
  },
  {
   "cell_type": "code",
   "execution_count": 34,
   "metadata": {},
   "outputs": [
    {
     "output_type": "stream",
     "name": "stdout",
     "text": [
      "\n\n11 November 2020\nby Reid Nakamura\n\n                        \nThe Wrap                        \n                \n\n                        Permalink\n                    \n\n                    Report this\n                \n11 November 2020\nby Brian Welk\n\n                        \nThe Wrap                        \n                \n\n                        Permalink\n                    \n\n                    Report this\n                \n10 November 2020\nby Will Thorne\n\n                        \nVariety - TV News                        \n                \n\n                        Permalink\n                    \n\n                    Report this\n                \n09 November 2020\nby Joe Otterson\n\n                        \nVariety - TV News                        \n                \n\n                        Permalink\n                    \n\n                    Report this\n                \n12 November 2020\nby Naman Ramachandran\n\n                        \nVariety - TV News                        \n                \n\n                        Permalink\n                    \n\n                    Report this\n                \n12 November 2020\nby Naman Ramachandran\n\n                        \nVariety - TV News                        \n                \n\n                        Permalink\n                    \n\n                    Report this\n                \n12 November 2020\nby Chris Willman\n\n                        \nVariety - TV News                        \n                \n\n                        Permalink\n                    \n\n                    Report this\n                \n12 November 2020\nby Patrick Frater\n\n                        \nVariety - TV News                        \n                \n\n                        Permalink\n                    \n\n                    Report this\n                \n12 November 2020\nby Vlada Gelman\n\n                        \nTVLine.com                        \n                \n\n                        Permalink\n                    \n\n                    Report this\n                \n12 November 2020\nby Janet W. Lee\n\n                        \nVariety - TV News                        \n                \n\n                        Permalink\n                    \n\n                    Report this\n                \n12 November 2020\nby Vlada Gelman\n\n                        \nTVLine.com                        \n                \n\n                        Permalink\n                    \n\n                    Report this\n                \n12 November 2020\nby Kimberly Roots\n\n                        \nTVLine.com                        \n                \n\n                        Permalink\n                    \n\n                    Report this\n                \n12 November 2020\nby Vlada Gelman\n\n                        \nTVLine.com                        \n                \n\n                        Permalink\n                    \n\n                    Report this\n                \n12 November 2020\nby Michael Schneider\n\n                        \nVariety - TV News                        \n                \n\n                        Permalink\n                    \n\n                    Report this\n                \n12 November 2020\nby Nick Caruso\n\n                        \nTVLine.com                        \n                \n\n                        Permalink\n                    \n\n                    Report this\n                \n12 November 2020\nby Kimberly Roots\n\n                        \nTVLine.com                        \n                \n\n                        Permalink\n                    \n\n                    Report this\n                \n12 November 2020\nby Chris Willman\n\n                        \nVariety - TV News                        \n                \n\n                        Permalink\n                    \n\n                    Report this\n                \n12 November 2020\nby Dave Nemetz\n\n                        \nTVLine.com                        \n                \n\n                        Permalink\n                    \n\n                    Report this\n                \n12 November 2020\nby Eli Countryman\n\n                        \nVariety - TV News                        \n                \n\n                        Permalink\n                    \n\n                    Report this\n                \n12 November 2020\nby Joe Otterson\n\n                        \nVariety - TV News                        \n                \n\n                        Permalink\n                    \n\n                    Report this\n                \n\n    \n        Michael Bay to Direct Thriller ‘Ambulance’ With Jake Gyllenhaal in Talks to Star\n        \n            11 November 2020\n            \nVariety - Film News\n            \n        \n    \n                \n11 November 2020\n\nVariety - Film News\n            \n\n    \n        Miles Teller, Shailene Woodley, William Hurt to Star in Political Satire ‘The Fence’\n        \n            11 November 2020\n            \nThe Wrap\n            \n        \n    \n                \n11 November 2020\n\nThe Wrap\n            \n\n    \n        ‘Normal People’ Star Paul Mescal Joins Melissa Barrera in Benjamin Millepied’s ‘Carmen’ (Exclusive)\n        \n            11 November 2020\n            \nVariety - Film News\n            \n        \n    \n                \n11 November 2020\n\nVariety - Film News\n            \n\n    \n        Chuck Lorre Comedy ‘United States of Al’ Gets Series Order at CBS\n        \n            11 November 2020\n            \nThe Wrap\n            \n        \n    \n                \n11 November 2020\n\nThe Wrap\n            \n\n    \n        ‘Roma’ Star Yalitza Aparicio to Host 2020 Latin Grammys\n        \n            11 November 2020\n            \nThe Wrap\n            \n        \n    \n                \n11 November 2020\n\nThe Wrap\n            \n\n    \n        Michael Bay to Direct Thriller ‘Ambulance’ With Jake Gyllenhaal in Talks to Star\n        \n            11 November 2020\n            \nVariety - Film News\n            \n        \n    \n                \n11 November 2020\n\nVariety - Film News\n            \n\n    \n        Miles Teller, Shailene Woodley, William Hurt to Star in Political Satire ‘The Fence’\n        \n            11 November 2020\n            \nThe Wrap\n            \n        \n    \n                \n11 November 2020\n\nThe Wrap\n            \n\n    \n        ‘Normal People’ Star Paul Mescal Joins Melissa Barrera in Benjamin Millepied’s ‘Carmen’ (Exclusive)\n        \n            11 November 2020\n            \nVariety - Film News\n            \n        \n    \n                \n11 November 2020\n\nVariety - Film News\n            \n\n    \n        Universal Schedules Jordan Peele’s Horror Movie for 2022 — Film News in Brief\n        \n            09 November 2020\n            \nVariety - Film News\n            \n        \n    \n                \n09 November 2020\n\nVariety - Film News\n            \n\n    \n        ‘Fantastic Beasts 3’ Sets New Release Date\n        \n            09 November 2020\n            \nVariety - Film News\n            \n        \n    \n                \n09 November 2020\n\nVariety - Film News\n            \n\n    \n        Kathryn Hahn Joins Will Ferrell, Paul Rudd in Apple Series ‘The Shrink Next Door’\n        \n            09 November 2020\n            \nVariety - TV News\n            \n        \n    \n                \n09 November 2020\n\nVariety - TV News\n            \n\n    \n        Carrie Underwood, Miranda Lambert and More Artists Mix and Mingle at the 2020 CMA Awards\n        \n            12 November 2020\n            \nE! Online\n            \n        \n    \n                \n12 November 2020\n\nE! Online\n            \n\n    \n        The Pioneer Woman Ree Drummond's Holiday Gift Guide Turns Any House Into a Home\n        \n            12 November 2020\n            \nE! Online\n            \n        \n    \n                \n12 November 2020\n\nE! Online\n            \n\n    \n        Hey Girl, Here Are 40 Fun Facts About Ryan Gosling\n        \n            12 November 2020\n            \nE! Online\n            \n        \n    \n                \n12 November 2020\n\nE! Online\n            \n\n    \n        Little Big Town Pays Tribute To ‘Sweet Music Man’ Kenny Rogers At 2020 CMA Awards\n        \n            12 November 2020\n            \nET Canada\n            \n        \n    \n                \n12 November 2020\n\nET Canada\n            \n\n    \n        Long Live ‘The Queen’s Gambit,’ Netflix’s Next Awards Darling\n        \n            12 November 2020\n            \nIndiewire\n            \n        \n    \n                \n12 November 2020\n\nIndiewire\n            \n\n    \n        ‘The Climb’ Finally Hits Theaters, 18 Months After Its Cannes 2019 Launch\n        \n            12 November 2020\n            \nIndiewire\n            \n        \n    \n                \n12 November 2020\n\nIndiewire\n            \n\n    \n        ‘Transhood’ Review: Tender Documentary About Trans Kids Tugs the Heartstrings\n        \n            11 November 2020\n            \nIndiewire\n            \n        \n    \n                \n11 November 2020\n\nIndiewire\n            \n\n    \n        Fincher ‘Feels Strange’ About His Lack of Output, Joined Netflix to Strengthen His Body of Work\n        \n            11 November 2020\n            \nIndiewire\n            \n        \n    \n                \n11 November 2020\n\nIndiewire\n            \n\n    \n        How to Turn Your Backyard into an Outdoor Movie Theater\n        \n            11 November 2020\n            \nIndiewire\n            \n        \n    \n                \n11 November 2020\n\nIndiewire\n            \n\n\n\n\n\nGet the IMDb App\nView Full Site\nHelp\nSite Index\nIMDbPro\nBox Office Mojo\nIMDb Developer\nPress Room\nAdvertising\nJobs\nConditions of Use\nPrivacy Policy\nInterest-Based Ads\n\n"
     ]
    }
   ],
   "source": [
    "dates = soup.find_all('li',{'class':'ipl-inline-list__item news-article__date'})\n",
    "for li in dates:\n",
    "    print(li.text)"
   ]
  },
  {
   "cell_type": "code",
   "execution_count": null,
   "metadata": {},
   "outputs": [],
   "source": []
  }
 ]
}
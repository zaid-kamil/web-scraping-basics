{
 "metadata": {
  "language_info": {
   "codemirror_mode": {
    "name": "ipython",
    "version": 3
   },
   "file_extension": ".py",
   "mimetype": "text/x-python",
   "name": "python",
   "nbconvert_exporter": "python",
   "pygments_lexer": "ipython3",
   "version": "3.8.3-final"
  },
  "orig_nbformat": 2,
  "kernelspec": {
   "name": "python3",
   "display_name": "Python 3"
  }
 },
 "nbformat": 4,
 "nbformat_minor": 2,
 "cells": [
  {
   "cell_type": "code",
   "execution_count": 1,
   "metadata": {},
   "outputs": [],
   "source": [
    "import requests \n",
    "from bs4 import BeautifulSoup"
   ]
  },
  {
   "cell_type": "code",
   "execution_count": 2,
   "metadata": {},
   "outputs": [],
   "source": [
    "url ='https://music.apple.com/in/room/1481109978'"
   ]
  },
  {
   "cell_type": "code",
   "execution_count": 3,
   "metadata": {},
   "outputs": [],
   "source": [
    "page = requests.get(url)\n",
    "soup = BeautifulSoup(page.text, 'lxml')"
   ]
  },
  {
   "cell_type": "code",
   "execution_count": 5,
   "metadata": {},
   "outputs": [],
   "source": [
    "radio_list = soup.find_all('div',{'class':'lockup__lines'})"
   ]
  },
  {
   "cell_type": "code",
   "execution_count": 8,
   "metadata": {},
   "outputs": [
    {
     "output_type": "stream",
     "name": "stdout",
     "text": [
      "Beyond The Influence Radio with Tim McGraw\nFREEBANDZ RADIO\nKerwin Frost Radio\nMEMENTO MORI\nGroove Velocity Radio with Bluey\nColor Me Country\nSOULECTION\nHome Now Radio\nRocket Hour\nStretch and Bobbito Radio\nSong Machine Radio with Gorillaz\n\"TELEVISED RADIO\"\nAitch D Radio\nProud Radio\nNevuary Radio\n.WAV RADIO\nDon't Mess With Texas Radio with Pat Green\nLive from the Moon\nAll I Have to Give Radio\nDeep Hidden Meaning\nFeelMyBicep Radio\nParty Barn Radio\nMe Always Radio\nLevel Up Radio\nMa, G! Radio\nUncle Snoop's Army Radio\nAfter School Radio\nAlanis Radio\nkelsea radio\nDirty Pop Radio\nAfrica Now Radio with Cuppy\nBootleggers Radio\nThe Nashville Countdown\nYoung Money Radio\nFGL House Party Radio\nLand of the BRE Radio\nHappy Hour Radio with Morgan Wallen\nQueen Radio\n'80s Radio with Huey Lewis\nWildcard Radio\nSix Degrees Radio\nLondon to Nashville Radio\nblonded RADIO\nCrossroads Radio with Willie Jones\nCountry Faith Radio with Chrissy Metz\nBoiler Room\nHouse Work Radio\ndanceXL Radio with Anna Lunoe\nCountry Wide Radio with Morgan Evans\nCharlie Sloth Rap Show\nTime Crisis\nGuest List Radio\nSouthern Accents Radio\nZAZA WORLD RADIO\nThe Echo Chamber\nOne Mix\n"
     ]
    }
   ],
   "source": [
    "for radio in radio_list:\n",
    "    print(radio.text.strip())"
   ]
  },
  {
   "cell_type": "code",
   "execution_count": null,
   "metadata": {},
   "outputs": [],
   "source": []
  }
 ]
}